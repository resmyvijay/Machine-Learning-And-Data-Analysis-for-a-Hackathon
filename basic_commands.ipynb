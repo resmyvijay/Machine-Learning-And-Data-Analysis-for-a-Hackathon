{
  "nbformat": 4,
  "nbformat_minor": 0,
  "metadata": {
    "colab": {
      "name": "basic_commands.ipynb",
      "provenance": [],
      "authorship_tag": "ABX9TyMuWe9VcsSKJ46XFkAv53FO",
      "include_colab_link": true
    },
    "kernelspec": {
      "name": "python3",
      "display_name": "Python 3"
    },
    "language_info": {
      "name": "python"
    },
    "accelerator": "GPU"
  },
  "cells": [
    {
      "cell_type": "markdown",
      "metadata": {
        "id": "view-in-github",
        "colab_type": "text"
      },
      "source": [
        "<a href=\"https://colab.research.google.com/github/resmyvijay/Machine-Learning-And-Data-Analysis-for-a-Hackathon/blob/main/basic_commands.ipynb\" target=\"_parent\"><img src=\"https://colab.research.google.com/assets/colab-badge.svg\" alt=\"Open In Colab\"/></a>"
      ]
    },
    {
      "cell_type": "code",
      "execution_count": null,
      "metadata": {
        "id": "Z6zFNSfTcZEM",
        "colab": {
          "base_uri": "https://localhost:8080/"
        },
        "outputId": "cd38b20d-9430-41f8-be94-4a83b0cac5cb"
      },
      "outputs": [
        {
          "output_type": "stream",
          "name": "stdout",
          "text": [
            "/content\n"
          ]
        }
      ],
      "source": [
        "!pwd"
      ]
    },
    {
      "cell_type": "code",
      "source": [
        "cd sample_data"
      ],
      "metadata": {
        "id": "vykQ_p-Bc4wh",
        "colab": {
          "base_uri": "https://localhost:8080/"
        },
        "outputId": "4595d270-6ac8-4919-8253-1084826b180b"
      },
      "execution_count": null,
      "outputs": [
        {
          "output_type": "stream",
          "name": "stdout",
          "text": [
            "/content/sample_data\n"
          ]
        }
      ]
    },
    {
      "cell_type": "markdown",
      "source": [
        "# New section"
      ],
      "metadata": {
        "id": "3bELyDgDc-LK"
      }
    },
    {
      "cell_type": "code",
      "source": [
        "!ls"
      ],
      "metadata": {
        "colab": {
          "base_uri": "https://localhost:8080/"
        },
        "id": "xHVlVlkSdwHn",
        "outputId": "d2743a94-6fba-47e8-a25d-1036fae0a4b6"
      },
      "execution_count": null,
      "outputs": [
        {
          "output_type": "stream",
          "name": "stdout",
          "text": [
            "anscombe.json\t\t      mnist_test.csv\n",
            "california_housing_test.csv   mnist_train_small.csv\n",
            "california_housing_train.csv  README.md\n"
          ]
        }
      ]
    },
    {
      "cell_type": "code",
      "source": [
        "cd .."
      ],
      "metadata": {
        "colab": {
          "base_uri": "https://localhost:8080/"
        },
        "id": "itYNMd1Gdxa5",
        "outputId": "6fac7e62-6d76-4a79-dabc-231249c14835"
      },
      "execution_count": null,
      "outputs": [
        {
          "output_type": "stream",
          "name": "stdout",
          "text": [
            "/content\n"
          ]
        }
      ]
    },
    {
      "cell_type": "code",
      "source": [
        ""
      ],
      "metadata": {
        "id": "MXYwk0BReUDL"
      },
      "execution_count": null,
      "outputs": []
    },
    {
      "cell_type": "code",
      "source": [
        "!git clone https://github.com/krishnaik06/5-Days-Live-EDA-and-Feature-Engineering.git"
      ],
      "metadata": {
        "colab": {
          "base_uri": "https://localhost:8080/"
        },
        "id": "WkQ4xEpndzJ6",
        "outputId": "bb7998ab-268f-435b-b2d7-5f69f33200f2"
      },
      "execution_count": null,
      "outputs": [
        {
          "output_type": "stream",
          "name": "stdout",
          "text": [
            "Cloning into '5-Days-Live-EDA-and-Feature-Engineering'...\n",
            "remote: Enumerating objects: 22, done.\u001b[K\n",
            "remote: Counting objects: 100% (22/22), done.\u001b[K\n",
            "remote: Compressing objects: 100% (21/21), done.\u001b[K\n",
            "remote: Total 22 (delta 6), reused 0 (delta 0), pack-reused 0\u001b[K\n",
            "Unpacking objects: 100% (22/22), done.\n"
          ]
        }
      ]
    },
    {
      "cell_type": "code",
      "source": [
        "!pwd"
      ],
      "metadata": {
        "colab": {
          "base_uri": "https://localhost:8080/"
        },
        "id": "mA-4UZJ7fHic",
        "outputId": "23410ff9-914c-4f66-dd5f-555949b06ba5"
      },
      "execution_count": null,
      "outputs": [
        {
          "output_type": "stream",
          "name": "stdout",
          "text": [
            "/content\n"
          ]
        }
      ]
    },
    {
      "cell_type": "code",
      "source": [
        "\n",
        "%cd /content/5-Days-Live-EDA-and-Feature-Engineering/"
      ],
      "metadata": {
        "colab": {
          "base_uri": "https://localhost:8080/"
        },
        "id": "SXsi4kL8fLm4",
        "outputId": "a03b3686-6866-4667-bb10-253792774553"
      },
      "execution_count": null,
      "outputs": [
        {
          "output_type": "stream",
          "name": "stdout",
          "text": [
            "/content/5-Days-Live-EDA-and-Feature-Engineering\n"
          ]
        }
      ]
    },
    {
      "cell_type": "code",
      "source": [
        "!ls\n",
        "  "
      ],
      "metadata": {
        "colab": {
          "base_uri": "https://localhost:8080/"
        },
        "id": "_XSgKUFXfud6",
        "outputId": "29de1213-a7ab-48d2-acc1-c1f7fb1e8a76"
      },
      "execution_count": null,
      "outputs": [
        {
          "output_type": "stream",
          "name": "stdout",
          "text": [
            "'1-EDA And Feature Engineering.ipynb'\t\t     LICENSE\n",
            "'2- BlackFriday EDA And Feature Engineering.ipynb'   README.md\n",
            "'Flight Prediction'\t\t\t\t     Zomatodataset.zip\n"
          ]
        }
      ]
    },
    {
      "cell_type": "code",
      "source": [
        "!pwd"
      ],
      "metadata": {
        "colab": {
          "base_uri": "https://localhost:8080/"
        },
        "id": "JsYpnXdKgJ7_",
        "outputId": "8b9ed520-707f-411e-e406-4f1f84994741"
      },
      "execution_count": null,
      "outputs": [
        {
          "output_type": "stream",
          "name": "stdout",
          "text": [
            "/content/5-Days-Live-EDA-and-Feature-Engineering\n"
          ]
        }
      ]
    },
    {
      "cell_type": "code",
      "source": [
        "!rm -rf 1-EDA And Feature Engineering.ipynb "
      ],
      "metadata": {
        "id": "be6CoYsPgZxo"
      },
      "execution_count": null,
      "outputs": []
    },
    {
      "cell_type": "code",
      "source": [
        "!ls"
      ],
      "metadata": {
        "colab": {
          "base_uri": "https://localhost:8080/"
        },
        "id": "7fDDEUtB1iuU",
        "outputId": "7e8b2f2e-465d-4070-97c2-14adbd439804"
      },
      "execution_count": null,
      "outputs": [
        {
          "output_type": "stream",
          "name": "stdout",
          "text": [
            "'1-EDA And Feature Engineering.ipynb'\t\t     LICENSE\n",
            "'2- BlackFriday EDA And Feature Engineering.ipynb'   README.md\n",
            "'Flight Prediction'\t\t\t\t     Zomatodataset.zip\n"
          ]
        }
      ]
    },
    {
      "cell_type": "code",
      "source": [
        "!rm -rf README.md"
      ],
      "metadata": {
        "id": "sKHy_bDh1kdg"
      },
      "execution_count": null,
      "outputs": []
    },
    {
      "cell_type": "code",
      "source": [
        "!ls"
      ],
      "metadata": {
        "id": "EKLkqKKK1727",
        "outputId": "d83a7325-e573-4509-f5de-74faea195935",
        "colab": {
          "base_uri": "https://localhost:8080/"
        }
      },
      "execution_count": null,
      "outputs": [
        {
          "output_type": "stream",
          "name": "stdout",
          "text": [
            "'1-EDA And Feature Engineering.ipynb'\t\t     LICENSE\n",
            "'2- BlackFriday EDA And Feature Engineering.ipynb'   Zomatodataset.zip\n",
            "'Flight Prediction'\n"
          ]
        }
      ]
    },
    {
      "cell_type": "code",
      "source": [
        ""
      ],
      "metadata": {
        "id": "IBwnuYhi19JD"
      },
      "execution_count": null,
      "outputs": []
    }
  ]
}